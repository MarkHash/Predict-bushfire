{
  "cells": [
    {
      "cell_type": "code",
      "execution_count": 1,
      "metadata": {
        "colab": {
          "base_uri": "https://localhost:8080/"
        },
        "id": "5m76VmHwVDRM",
        "outputId": "1da26500-191c-4970-ed43-7851b231c3d8"
      },
      "outputs": [
        {
          "name": "stdout",
          "output_type": "stream",
          "text": [
            "Looking in indexes: https://pypi.org/simple, https://us-python.pkg.dev/colab-wheels/public/simple/\n",
            "Collecting smogn\n",
            "  Downloading smogn-0.1.2-py3-none-any.whl (30 kB)\n",
            "Requirement already satisfied: tqdm in /usr/local/lib/python3.7/dist-packages (from smogn) (4.64.0)\n",
            "Requirement already satisfied: numpy in /usr/local/lib/python3.7/dist-packages (from smogn) (1.21.6)\n",
            "Requirement already satisfied: pandas in /usr/local/lib/python3.7/dist-packages (from smogn) (1.3.5)\n",
            "Requirement already satisfied: pytz>=2017.3 in /usr/local/lib/python3.7/dist-packages (from pandas->smogn) (2022.1)\n",
            "Requirement already satisfied: python-dateutil>=2.7.3 in /usr/local/lib/python3.7/dist-packages (from pandas->smogn) (2.8.2)\n",
            "Requirement already satisfied: six>=1.5 in /usr/local/lib/python3.7/dist-packages (from python-dateutil>=2.7.3->pandas->smogn) (1.15.0)\n",
            "Installing collected packages: smogn\n",
            "Successfully installed smogn-0.1.2\n"
          ]
        }
      ],
      "source": [
        "!pip install smogn"
      ]
    },
    {
      "cell_type": "markdown",
      "metadata": {
        "id": "-o4MSmMOn4Nu"
      },
      "source": [
        "Import necessary resources and packages"
      ]
    },
    {
      "cell_type": "code",
      "execution_count": 2,
      "metadata": {
        "id": "K7S9OWSfR2vf"
      },
      "outputs": [],
      "source": [
        "# Import necessary resources\n",
        "from sklearn import svm\n",
        "from sklearn.dummy import DummyRegressor\n",
        "from sklearn.ensemble import AdaBoostRegressor, BaggingRegressor, RandomForestRegressor, StackingRegressor\n",
        "from sklearn.feature_selection import mutual_info_regression, f_regression, SelectKBest\n",
        "from sklearn.linear_model import LinearRegression\n",
        "from sklearn.model_selection import GridSearchCV, RepeatedKFold\n",
        "from sklearn.metrics import mean_absolute_error, mean_squared_error\n",
        "from sklearn.neighbors import KNeighborsRegressor\n",
        "from sklearn.neural_network import MLPRegressor\n",
        "from sklearn.preprocessing import StandardScaler\n",
        "from sklearn.tree import DecisionTreeRegressor\n",
        "\n",
        "import matplotlib.pyplot as plt\n",
        "import numpy as np\n",
        "import pandas as pd\n",
        "import seaborn as sns\n",
        "import smogn\n",
        "import warnings\n",
        "warnings.filterwarnings('ignore')\n"
      ]
    },
    {
      "cell_type": "markdown",
      "metadata": {
        "id": "thqICYaIn3AY"
      },
      "source": [
        "Load data from csv file and create a dataset"
      ]
    },
    {
      "cell_type": "code",
      "execution_count": 3,
      "metadata": {
        "colab": {
          "base_uri": "https://localhost:8080/"
        },
        "id": "gFIpWS9PR2vh",
        "outputId": "c04a61d0-9a07-4ff3-de10-347e87c622b7"
      },
      "outputs": [
        {
          "name": "stdout",
          "output_type": "stream",
          "text": [
            "Mounted at /content/drive\n"
          ]
        }
      ],
      "source": [
        "from google.colab import drive\n",
        "drive.mount('/content/drive')\n",
        "\n",
        "# Load the data from 'forestfires.csv' and create a dataset\n",
        "csv_data = pd.read_csv(\n",
        "    '/content/drive/MyDrive/Assignments/SIT720_FinalProject/forestfires.csv', sep=',')\n",
        "\n",
        "data = pd.DataFrame(csv_data)\n"
      ]
    },
    {
      "cell_type": "code",
      "execution_count": 4,
      "metadata": {
        "colab": {
          "base_uri": "https://localhost:8080/"
        },
        "id": "muqE_4KDR2vj",
        "outputId": "0a10032c-64cc-4686-ccc0-9d8139c8e748"
      },
      "outputs": [
        {
          "name": "stdout",
          "output_type": "stream",
          "text": [
            "Data dimension: (517, 13)\n"
          ]
        }
      ],
      "source": [
        "# Print the data dimension\n",
        "print('Data dimension: {}'.format(data.shape))\n"
      ]
    },
    {
      "cell_type": "code",
      "execution_count": 5,
      "metadata": {
        "colab": {
          "base_uri": "https://localhost:8080/",
          "height": 206
        },
        "id": "79UXxMOBL_n9",
        "outputId": "ea2a81b8-1050-4953-9ea4-1f2540313308"
      },
      "outputs": [
        {
          "data": {
            "text/html": [
              "\n",
              "  <div id=\"df-dc6af3fa-b0f8-4ec3-8e6b-fc323155a4ae\">\n",
              "    <div class=\"colab-df-container\">\n",
              "      <div>\n",
              "<style scoped>\n",
              "    .dataframe tbody tr th:only-of-type {\n",
              "        vertical-align: middle;\n",
              "    }\n",
              "\n",
              "    .dataframe tbody tr th {\n",
              "        vertical-align: top;\n",
              "    }\n",
              "\n",
              "    .dataframe thead th {\n",
              "        text-align: right;\n",
              "    }\n",
              "</style>\n",
              "<table border=\"1\" class=\"dataframe\">\n",
              "  <thead>\n",
              "    <tr style=\"text-align: right;\">\n",
              "      <th></th>\n",
              "      <th>X</th>\n",
              "      <th>Y</th>\n",
              "      <th>month</th>\n",
              "      <th>day</th>\n",
              "      <th>FFMC</th>\n",
              "      <th>DMC</th>\n",
              "      <th>DC</th>\n",
              "      <th>ISI</th>\n",
              "      <th>temp</th>\n",
              "      <th>RH</th>\n",
              "      <th>wind</th>\n",
              "      <th>rain</th>\n",
              "      <th>area</th>\n",
              "    </tr>\n",
              "  </thead>\n",
              "  <tbody>\n",
              "    <tr>\n",
              "      <th>0</th>\n",
              "      <td>7</td>\n",
              "      <td>5</td>\n",
              "      <td>mar</td>\n",
              "      <td>fri</td>\n",
              "      <td>86.2</td>\n",
              "      <td>26.2</td>\n",
              "      <td>94.3</td>\n",
              "      <td>5.1</td>\n",
              "      <td>8.2</td>\n",
              "      <td>51</td>\n",
              "      <td>6.7</td>\n",
              "      <td>0.0</td>\n",
              "      <td>0.0</td>\n",
              "    </tr>\n",
              "    <tr>\n",
              "      <th>1</th>\n",
              "      <td>7</td>\n",
              "      <td>4</td>\n",
              "      <td>oct</td>\n",
              "      <td>tue</td>\n",
              "      <td>90.6</td>\n",
              "      <td>35.4</td>\n",
              "      <td>669.1</td>\n",
              "      <td>6.7</td>\n",
              "      <td>18.0</td>\n",
              "      <td>33</td>\n",
              "      <td>0.9</td>\n",
              "      <td>0.0</td>\n",
              "      <td>0.0</td>\n",
              "    </tr>\n",
              "    <tr>\n",
              "      <th>2</th>\n",
              "      <td>7</td>\n",
              "      <td>4</td>\n",
              "      <td>oct</td>\n",
              "      <td>sat</td>\n",
              "      <td>90.6</td>\n",
              "      <td>43.7</td>\n",
              "      <td>686.9</td>\n",
              "      <td>6.7</td>\n",
              "      <td>14.6</td>\n",
              "      <td>33</td>\n",
              "      <td>1.3</td>\n",
              "      <td>0.0</td>\n",
              "      <td>0.0</td>\n",
              "    </tr>\n",
              "    <tr>\n",
              "      <th>3</th>\n",
              "      <td>8</td>\n",
              "      <td>6</td>\n",
              "      <td>mar</td>\n",
              "      <td>fri</td>\n",
              "      <td>91.7</td>\n",
              "      <td>33.3</td>\n",
              "      <td>77.5</td>\n",
              "      <td>9.0</td>\n",
              "      <td>8.3</td>\n",
              "      <td>97</td>\n",
              "      <td>4.0</td>\n",
              "      <td>0.2</td>\n",
              "      <td>0.0</td>\n",
              "    </tr>\n",
              "    <tr>\n",
              "      <th>4</th>\n",
              "      <td>8</td>\n",
              "      <td>6</td>\n",
              "      <td>mar</td>\n",
              "      <td>sun</td>\n",
              "      <td>89.3</td>\n",
              "      <td>51.3</td>\n",
              "      <td>102.2</td>\n",
              "      <td>9.6</td>\n",
              "      <td>11.4</td>\n",
              "      <td>99</td>\n",
              "      <td>1.8</td>\n",
              "      <td>0.0</td>\n",
              "      <td>0.0</td>\n",
              "    </tr>\n",
              "  </tbody>\n",
              "</table>\n",
              "</div>\n",
              "      <button class=\"colab-df-convert\" onclick=\"convertToInteractive('df-dc6af3fa-b0f8-4ec3-8e6b-fc323155a4ae')\"\n",
              "              title=\"Convert this dataframe to an interactive table.\"\n",
              "              style=\"display:none;\">\n",
              "        \n",
              "  <svg xmlns=\"http://www.w3.org/2000/svg\" height=\"24px\"viewBox=\"0 0 24 24\"\n",
              "       width=\"24px\">\n",
              "    <path d=\"M0 0h24v24H0V0z\" fill=\"none\"/>\n",
              "    <path d=\"M18.56 5.44l.94 2.06.94-2.06 2.06-.94-2.06-.94-.94-2.06-.94 2.06-2.06.94zm-11 1L8.5 8.5l.94-2.06 2.06-.94-2.06-.94L8.5 2.5l-.94 2.06-2.06.94zm10 10l.94 2.06.94-2.06 2.06-.94-2.06-.94-.94-2.06-.94 2.06-2.06.94z\"/><path d=\"M17.41 7.96l-1.37-1.37c-.4-.4-.92-.59-1.43-.59-.52 0-1.04.2-1.43.59L10.3 9.45l-7.72 7.72c-.78.78-.78 2.05 0 2.83L4 21.41c.39.39.9.59 1.41.59.51 0 1.02-.2 1.41-.59l7.78-7.78 2.81-2.81c.8-.78.8-2.07 0-2.86zM5.41 20L4 18.59l7.72-7.72 1.47 1.35L5.41 20z\"/>\n",
              "  </svg>\n",
              "      </button>\n",
              "      \n",
              "  <style>\n",
              "    .colab-df-container {\n",
              "      display:flex;\n",
              "      flex-wrap:wrap;\n",
              "      gap: 12px;\n",
              "    }\n",
              "\n",
              "    .colab-df-convert {\n",
              "      background-color: #E8F0FE;\n",
              "      border: none;\n",
              "      border-radius: 50%;\n",
              "      cursor: pointer;\n",
              "      display: none;\n",
              "      fill: #1967D2;\n",
              "      height: 32px;\n",
              "      padding: 0 0 0 0;\n",
              "      width: 32px;\n",
              "    }\n",
              "\n",
              "    .colab-df-convert:hover {\n",
              "      background-color: #E2EBFA;\n",
              "      box-shadow: 0px 1px 2px rgba(60, 64, 67, 0.3), 0px 1px 3px 1px rgba(60, 64, 67, 0.15);\n",
              "      fill: #174EA6;\n",
              "    }\n",
              "\n",
              "    [theme=dark] .colab-df-convert {\n",
              "      background-color: #3B4455;\n",
              "      fill: #D2E3FC;\n",
              "    }\n",
              "\n",
              "    [theme=dark] .colab-df-convert:hover {\n",
              "      background-color: #434B5C;\n",
              "      box-shadow: 0px 1px 3px 1px rgba(0, 0, 0, 0.15);\n",
              "      filter: drop-shadow(0px 1px 2px rgba(0, 0, 0, 0.3));\n",
              "      fill: #FFFFFF;\n",
              "    }\n",
              "  </style>\n",
              "\n",
              "      <script>\n",
              "        const buttonEl =\n",
              "          document.querySelector('#df-dc6af3fa-b0f8-4ec3-8e6b-fc323155a4ae button.colab-df-convert');\n",
              "        buttonEl.style.display =\n",
              "          google.colab.kernel.accessAllowed ? 'block' : 'none';\n",
              "\n",
              "        async function convertToInteractive(key) {\n",
              "          const element = document.querySelector('#df-dc6af3fa-b0f8-4ec3-8e6b-fc323155a4ae');\n",
              "          const dataTable =\n",
              "            await google.colab.kernel.invokeFunction('convertToInteractive',\n",
              "                                                     [key], {});\n",
              "          if (!dataTable) return;\n",
              "\n",
              "          const docLinkHtml = 'Like what you see? Visit the ' +\n",
              "            '<a target=\"_blank\" href=https://colab.research.google.com/notebooks/data_table.ipynb>data table notebook</a>'\n",
              "            + ' to learn more about interactive tables.';\n",
              "          element.innerHTML = '';\n",
              "          dataTable['output_type'] = 'display_data';\n",
              "          await google.colab.output.renderOutput(dataTable, element);\n",
              "          const docLink = document.createElement('div');\n",
              "          docLink.innerHTML = docLinkHtml;\n",
              "          element.appendChild(docLink);\n",
              "        }\n",
              "      </script>\n",
              "    </div>\n",
              "  </div>\n",
              "  "
            ],
            "text/plain": [
              "   X  Y month  day  FFMC   DMC     DC  ISI  temp  RH  wind  rain  area\n",
              "0  7  5   mar  fri  86.2  26.2   94.3  5.1   8.2  51   6.7   0.0   0.0\n",
              "1  7  4   oct  tue  90.6  35.4  669.1  6.7  18.0  33   0.9   0.0   0.0\n",
              "2  7  4   oct  sat  90.6  43.7  686.9  6.7  14.6  33   1.3   0.0   0.0\n",
              "3  8  6   mar  fri  91.7  33.3   77.5  9.0   8.3  97   4.0   0.2   0.0\n",
              "4  8  6   mar  sun  89.3  51.3  102.2  9.6  11.4  99   1.8   0.0   0.0"
            ]
          },
          "execution_count": 5,
          "metadata": {},
          "output_type": "execute_result"
        }
      ],
      "source": [
        "data.head()"
      ]
    },
    {
      "cell_type": "markdown",
      "metadata": {
        "id": "Pl2pv1J1o1nD"
      },
      "source": [
        "**Task 1.**"
      ]
    },
    {
      "cell_type": "markdown",
      "metadata": {
        "id": "h0zv5SbaoCSd"
      },
      "source": [
        "Pre/post processing"
      ]
    },
    {
      "cell_type": "code",
      "execution_count": 6,
      "metadata": {
        "id": "Ytyx_bFQR2vk"
      },
      "outputs": [],
      "source": [
        "# Dictionary for 'month' and 'day' features\n",
        "month_dict = {'jan': 1, 'feb': 2, 'mar': 3, 'apr': 4,\n",
        "              'may': 5, 'jun': 6, 'jul': 7, 'aug': 8,\n",
        "              'sep': 9, 'oct': 10, 'nov': 11, 'dec': 12\n",
        "              }\n",
        "day_dict = {'sun': 1, 'mon': 2, 'tue': 3, 'wed': 4,\n",
        "            'thu': 5, 'fri': 6, 'sat': 7\n",
        "            }\n",
        "\n",
        "# Pre-process, transforming object data into numeric data\n",
        "data['month'] = data['month'].apply(lambda x: month_dict.get(x))\n",
        "data['day'] = data['day'].apply(lambda x: day_dict.get(x))\n",
        "\n",
        "# Post-process, using the inverse of the logarithm transform.\n",
        "# Negative numbers and such negative outputs set to zero\n",
        "def post_process(arr):\n",
        "  arr = np.log(arr)\n",
        "  arr = np.nan_to_num(arr)\n",
        "  arr[arr < 0] = 0.0\n",
        "  return arr"
      ]
    },
    {
      "cell_type": "markdown",
      "metadata": {
        "id": "Qng-IUS9oFLp"
      },
      "source": [
        "Dataset creation"
      ]
    },
    {
      "cell_type": "code",
      "execution_count": 7,
      "metadata": {
        "id": "fYUSq9KZR2vk"
      },
      "outputs": [],
      "source": [
        "# Separate dataset to feature (X) and target (y) DataFrame\n",
        "STFWI_columns = ['X','Y','month','day','FFMC','DMC','DC','ISI']\n",
        "STM_columns = ['X','Y','month','day','temp','RH','wind','rain']\n",
        "FWI_columns = ['FFMC','DMC','DC','ISI']\n",
        "M_columns = ['temp','RH','wind','rain']\n",
        "columns = ['area']\n",
        "\n",
        "X = data.drop(columns=columns, axis=1)\n",
        "STFWI_X = X[STFWI_columns]\n",
        "STM_X = X[STM_columns]\n",
        "FWI_X = X[FWI_columns]\n",
        "M_X = X[M_columns]\n",
        "y = data[columns]"
      ]
    },
    {
      "cell_type": "markdown",
      "metadata": {
        "id": "sukVHp51oJHh"
      },
      "source": [
        "Standardise attributes for Neural networks and Support vector machines"
      ]
    },
    {
      "cell_type": "code",
      "execution_count": 8,
      "metadata": {
        "id": "MMVklxm1me6s"
      },
      "outputs": [],
      "source": [
        "# For NN and SVM methods, standardise all attributes to a zero mean\n",
        "# and one standard deviation\n",
        "scaler = StandardScaler(with_mean=False, with_std=False)\n",
        "df_scaled = pd.DataFrame(scaler.fit_transform(data),columns = data.columns)\n",
        "\n",
        "scaled_X = df_scaled.drop(columns=columns, axis=1)\n",
        "scaled_STFWI_X = scaled_X[STFWI_columns]\n",
        "scaled_STM_X = scaled_X[STM_columns]\n",
        "scaled_FWI_X = scaled_X[FWI_columns]\n",
        "scaled_M_X = scaled_X[M_columns]\n",
        "\n",
        "scaled_y = df_scaled[columns]"
      ]
    },
    {
      "cell_type": "markdown",
      "metadata": {
        "id": "WqpscVc2Sesy"
      },
      "source": [
        "Define training/test splitting approach and models"
      ]
    },
    {
      "cell_type": "code",
      "execution_count": 9,
      "metadata": {
        "id": "BPcf1J_WIO4X"
      },
      "outputs": [],
      "source": [
        "# Define constants\n",
        "n_splits = 10\n",
        "n_repeats = 5\n",
        "\n",
        "# Create repeated K-Fold cross validator with 10 splits and 5 repeats\n",
        "rkf = RepeatedKFold(n_splits=n_splits, n_repeats=n_repeats)\n",
        "\n",
        "# Data mining models\n",
        "DR = DummyRegressor(strategy='mean')\n",
        "LR = LinearRegression()\n",
        "DT = DecisionTreeRegressor(criterion='squared_error')\n",
        "RF = RandomForestRegressor(n_estimators=500)\n",
        "\n",
        "# Dictionary for datasets\n",
        "datasets = [STFWI_X, STM_X, FWI_X, M_X]\n",
        "datasets_dict = {0: 'STFWI',\n",
        "                 1: 'STM',\n",
        "                 2: 'FWI',\n",
        "                 3: 'M'}\n",
        "\n",
        "# Dictionary for models\n",
        "models = [DR, LR, DT, RF]\n",
        "models_dict = {0: 'Naive average predictor',\n",
        "               1: 'Multiple regression',\n",
        "               2: 'Decesion tree',\n",
        "               3: 'Random forest'}\n"
      ]
    },
    {
      "cell_type": "markdown",
      "metadata": {
        "id": "Z67b1DhZoZZ7"
      },
      "source": [
        "Train and evaluate each model"
      ]
    },
    {
      "cell_type": "code",
      "execution_count": 10,
      "metadata": {
        "colab": {
          "base_uri": "https://localhost:8080/"
        },
        "id": "DF4_PkjJmFXy",
        "outputId": "fa382c00-fd45-46d8-c8ea-5aedda747658"
      },
      "outputs": [
        {
          "name": "stdout",
          "output_type": "stream",
          "text": [
            "Naive average predictor\n",
            "STFWI: MAD: 13.097, RMSE: 47.400\n",
            "STM: MAD: 13.092, RMSE: 46.501\n",
            "FWI: MAD: 13.126, RMSE: 45.244\n",
            "M: MAD: 13.100, RMSE: 45.962\n",
            "Multiple regression\n",
            "STFWI: MAD: 13.035, RMSE: 46.196\n",
            "STM: MAD: 13.056, RMSE: 46.673\n",
            "FWI: MAD: 13.069, RMSE: 45.554\n",
            "M: MAD: 13.106, RMSE: 46.350\n",
            "Decesion tree\n",
            "STFWI: MAD: 12.895, RMSE: 46.869\n",
            "STM: MAD: 12.898, RMSE: 47.196\n",
            "FWI: MAD: 12.950, RMSE: 45.761\n",
            "M: MAD: 12.920, RMSE: 47.230\n",
            "Random forest\n",
            "STFWI: MAD: 12.987, RMSE: 46.468\n",
            "STM: MAD: 13.034, RMSE: 46.122\n",
            "FWI: MAD: 13.016, RMSE: 45.234\n",
            "M: MAD: 13.017, RMSE: 47.499\n"
          ]
        }
      ],
      "source": [
        "# Training for four models and four datasets\n",
        "for i, model in enumerate(models):\n",
        "  print('{}'.format(models_dict[i]))\n",
        "  for j, dataset in enumerate(datasets):\n",
        "    # MAD and RMSE score\n",
        "    MAD = []\n",
        "    RMSE = []\n",
        "\n",
        "    # Use repeated K-Fold cross validator with 10 splits and 5 repeats\n",
        "    for loop, (train_idx, test_idx) in enumerate(rkf.split(dataset)):\n",
        "      # Create train and test datasets\n",
        "      X_train, X_test = dataset.loc[train_idx], dataset.loc[test_idx]\n",
        "      y_train, y_test = y.loc[train_idx], y.loc[test_idx]\n",
        "\n",
        "      # Train each model\n",
        "      model.fit(X_train, y_train)\n",
        "      # Predict with test data\n",
        "      y_hat = post_process(model.predict(X_test))\n",
        "      # Calculate MAD and RMSE\n",
        "      MAD.append(mean_absolute_error(y_test, y_hat))\n",
        "      RMSE.append(mean_squared_error(y_test, y_hat, squared=False))\n",
        "    print('{}: MAD: {:.3f}, RMSE: {:.3f}'.format(datasets_dict[j], np.mean(MAD), np.mean(RMSE)))"
      ]
    },
    {
      "cell_type": "markdown",
      "metadata": {
        "id": "2KHKRvUpoi6f"
      },
      "source": [
        "Train and evaluate Neural networks"
      ]
    },
    {
      "cell_type": "code",
      "execution_count": 11,
      "metadata": {
        "colab": {
          "base_uri": "https://localhost:8080/"
        },
        "id": "ixf7Ge5M3GDP",
        "outputId": "17f5c722-df04-4730-882e-f8a9b9604aa3"
      },
      "outputs": [
        {
          "name": "stdout",
          "output_type": "stream",
          "text": [
            "Neural networks\n",
            "dataset: STFWI, Number of nodes: 4, MAD: 13.091, RMSE: 46.153\n",
            "dataset: STM, Number of nodes: 6, MAD: 13.054, RMSE: 47.103\n",
            "dataset: FWI, Number of nodes: 4, MAD: 13.087, RMSE: 47.192\n",
            "dataset: M, Number of nodes: 4, MAD: 13.072, RMSE: 47.238\n"
          ]
        }
      ],
      "source": [
        "# Dictionary for standardised datasets\n",
        "data_dict = {\n",
        "    0: scaled_STFWI_X,\n",
        "    1: scaled_STM_X,\n",
        "    2: scaled_FWI_X,\n",
        "    3: scaled_M_X\n",
        "}\n",
        "# Dictionary for best node parameter from the research\n",
        "node_dict = {\n",
        "    0: 4,\n",
        "    1: 6,\n",
        "    2: 4,\n",
        "    3: 4\n",
        "}\n",
        "\n",
        "print(\"Neural networks\")\n",
        "# Train and test for each dataset\n",
        "for key, value in data_dict.items():\n",
        "  # MAD and RMSE scores\n",
        "  MAD = []\n",
        "  RMSE = []\n",
        "  # Define parameter string for MLPRegressor\n",
        "  NN = MLPRegressor(hidden_layer_sizes=(node_dict[key],),\n",
        "                    activation='logistic', solver='lbfgs', max_fun=300)\n",
        "  # Use repeated K-Fold cross validator with 10 splits and 5 repeats\n",
        "  for loop, (train_idx, test_idx) in enumerate(rkf.split(value)):\n",
        "    # Create train and test datasets\n",
        "    X_train, X_test = value.loc[train_idx], value.loc[test_idx]\n",
        "    y_train, y_test = scaled_y.loc[train_idx], scaled_y.loc[test_idx]\n",
        "    # Train the model\n",
        "    model = NN.fit(X_train, y_train)\n",
        "    # Predict with test data\n",
        "    y_hat = post_process(model.predict(X_test))\n",
        "    # Calculate MAD and RMSE\n",
        "    MAD.append(mean_absolute_error(y_test, y_hat))\n",
        "    RMSE.append(mean_squared_error(y_test, y_hat, squared=False))\n",
        "  print('dataset: {}, Number of nodes: {}, MAD: {:.3f}, RMSE: {:.3f}'.format(datasets_dict[key], node_dict[key], np.mean(MAD), np.mean(RMSE)))\n",
        "  "
      ]
    },
    {
      "cell_type": "markdown",
      "metadata": {
        "id": "dZeywIWcodxl"
      },
      "source": [
        "Train and evaluate Support vector machines"
      ]
    },
    {
      "cell_type": "code",
      "execution_count": 12,
      "metadata": {
        "colab": {
          "base_uri": "https://localhost:8080/"
        },
        "id": "S8jDYZLJOk1F",
        "outputId": "514af71c-344e-4f04-b0f3-9a5202597f8a"
      },
      "outputs": [
        {
          "name": "stdout",
          "output_type": "stream",
          "text": [
            "Support vector machines\n",
            "STFWI: MAD: 12.767, RMSE: 45.424\n",
            "STM: MAD: 12.807, RMSE: 46.312\n",
            "FWI: MAD: 12.777, RMSE: 47.105\n",
            "M: MAD: 12.867, RMSE: 46.788\n"
          ]
        }
      ],
      "source": [
        "# Dictionary for standardised datasets\n",
        "data_dict = {\n",
        "    0: scaled_STFWI_X,\n",
        "    1: scaled_STM_X,\n",
        "    2: scaled_FWI_X,\n",
        "    3: scaled_M_X\n",
        "}\n",
        "# Dictionary for the best gamma hyper-parameter from the research\n",
        "gamma_dict = {\n",
        "    0: 2**-5,\n",
        "    1: 2**-3,\n",
        "    2: 2**-3,\n",
        "    3: 2**-3\n",
        "}\n",
        "\n",
        "print(\"Support vector machines\")\n",
        "# Train and test for each dataset\n",
        "for key, value in data_dict.items():\n",
        "  # MAD and RMSE scores\n",
        "  MAD = []\n",
        "  RMSE = []\n",
        "  # Define parameter string for svm.SVR\n",
        "  SVR = svm.SVR(kernel='rbf', C=3, gamma=gamma_dict[key])\n",
        "  # Use repeated K-Fold cross validator with 10 splits and 5 repeats\n",
        "  for loop, (train_idx, test_idx) in enumerate(rkf.split(value)):\n",
        "    # Create train and test datasets\n",
        "    X_train, X_test = value.loc[train_idx], value.loc[test_idx]\n",
        "    y_train, y_test = scaled_y.loc[train_idx], scaled_y.loc[test_idx]\n",
        "    # Train the model\n",
        "    model = SVR.fit(X_train, y_train)\n",
        "    # Predict with test data\n",
        "    y_hat = post_process(model.predict(X_test))\n",
        "    # Calculate MAD and RMSE\n",
        "    MAD.append(mean_absolute_error(y_test, y_hat))\n",
        "    RMSE.append(mean_squared_error(y_test, y_hat, squared=False))\n",
        "  print('{}: MAD: {:.3f}, RMSE: {:.3f}'.format(datasets_dict[key], np.mean(MAD), np.mean(RMSE)))\n",
        "    "
      ]
    },
    {
      "cell_type": "markdown",
      "metadata": {
        "id": "Zp-JV_I9o7Nn"
      },
      "source": [
        "**Task 2. Design and develop your own ML solution for this problem**"
      ]
    },
    {
      "cell_type": "markdown",
      "metadata": {
        "id": "yAEwQMNQWtBJ"
      },
      "source": [
        "Correlation analysis"
      ]
    },
    {
      "cell_type": "code",
      "execution_count": 13,
      "metadata": {
        "colab": {
          "base_uri": "https://localhost:8080/",
          "height": 292
        },
        "id": "ntds09yNWvIW",
        "outputId": "ee37ffca-3328-4231-8ecb-2b41ca95e57e"
      },
      "outputs": [
        {
          "data": {
            "image/png": "[encoded data removed]",
            "text/plain": [
              "<Figure size 432x288 with 2 Axes>"
            ]
          },
          "metadata": {
            "needs_background": "light"
          },
          "output_type": "display_data"
        }
      ],
      "source": [
        "# Display correlation data with each feature in training data\n",
        "matrix = data.corr().round(2)\n",
        "mask = np.triu(np.ones_like(matrix, dtype=bool))\n",
        "sns.heatmap(matrix, annot=True, vmax=1, vmin=-1,\n",
        "            center=0, cmap='vlag', mask=mask)\n",
        "plt.show()\n"
      ]
    },
    {
      "cell_type": "markdown",
      "metadata": {
        "id": "dOW7vwxfWyrn"
      },
      "source": [
        "Feature importance scores"
      ]
    },
    {
      "cell_type": "code",
      "execution_count": 17,
      "metadata": {
        "colab": {
          "base_uri": "https://localhost:8080/",
          "height": 1000
        },
        "id": "IH6GeO3HWziF",
        "outputId": "6de7dbc9-1145-4b1b-eb6d-8f9f55c1465c"
      },
      "outputs": [
        {
          "name": "stdout",
          "output_type": "stream",
          "text": [
            "Feature: 0, Score: 1.90019\n",
            "Feature: 1, Score: 0.32408\n",
            "Feature: 2, Score: 2.90036\n",
            "Feature: 3, Score: 1.32695\n",
            "Feature: 4, Score: -0.11271\n",
            "Feature: 5, Score: 0.09664\n",
            "Feature: 6, Score: -0.03149\n",
            "Feature: 7, Score: -0.73053\n",
            "Feature: 8, Score: 0.95456\n",
            "Feature: 9, Score: -0.17576\n",
            "Feature: 10, Score: 1.23213\n",
            "Feature: 11, Score: -3.19577\n"
          ]
        },
        {
          "data": {
            "image/png": "[encoded data removed]",
            "text/plain": [
              "<Figure size 720x360 with 1 Axes>"
            ]
          },
          "metadata": {
            "needs_background": "light"
          },
          "output_type": "display_data"
        },
        {
          "name": "stdout",
          "output_type": "stream",
          "text": [
            "Feature: 0, Score: 0.00778\n",
            "Feature: 1, Score: 0.00947\n",
            "Feature: 2, Score: 0.00039\n",
            "Feature: 3, Score: 0.01505\n",
            "Feature: 4, Score: 0.01212\n",
            "Feature: 5, Score: 0.06164\n",
            "Feature: 6, Score: 0.03762\n",
            "Feature: 7, Score: 0.03321\n",
            "Feature: 8, Score: 0.80073\n",
            "Feature: 9, Score: 0.01290\n",
            "Feature: 10, Score: 0.00908\n",
            "Feature: 11, Score: 0.00000\n"
          ]
        },
        {
          "data": {
            "image/png": "[encoded data removed]",
            "text/plain": [
              "<Figure size 720x360 with 1 Axes>"
            ]
          },
          "metadata": {
            "needs_background": "light"
          },
          "output_type": "display_data"
        },
        {
          "name": "stdout",
          "output_type": "stream",
          "text": [
            "Feature: 0, Score: 0.03473\n",
            "Feature: 1, Score: 0.05400\n",
            "Feature: 2, Score: 0.01860\n",
            "Feature: 3, Score: 0.03426\n",
            "Feature: 4, Score: 0.04533\n",
            "Feature: 5, Score: 0.11875\n",
            "Feature: 6, Score: 0.04031\n",
            "Feature: 7, Score: 0.04572\n",
            "Feature: 8, Score: 0.47822\n",
            "Feature: 9, Score: 0.07161\n",
            "Feature: 10, Score: 0.05839\n",
            "Feature: 11, Score: 0.00008\n"
          ]
        },
        {
          "data": {
            "image/png": "[encoded data removed]",
            "text/plain": [
              "<Figure size 720x360 with 1 Axes>"
            ]
          },
          "metadata": {
            "needs_background": "light"
          },
          "output_type": "display_data"
        }
      ],
      "source": [
        "# Define the model to calculate feature importance score\n",
        "LR = LinearRegression()\n",
        "DT = DecisionTreeRegressor(criterion='squared_error')\n",
        "RF = RandomForestRegressor(n_estimators=500)\n",
        "\n",
        "models = [LR, DT, RF]\n",
        "# Dictionary for models\n",
        "stat_dict = {0: 'Multiple regressioin',\n",
        "             1: 'Decision tree regression',\n",
        "             2: 'Random forest regression',\n",
        "             }\n",
        "\n",
        "features = list(X.columns)\n",
        "\n",
        "for i, model in enumerate(models):\n",
        "    # Fit the model\n",
        "    model.fit(X, y)\n",
        "    # Get coefficient\n",
        "    if hasattr(model, \"coef_\"):\n",
        "        importance = model.coef_[0]\n",
        "    if hasattr(model, \"feature_importances_\"):\n",
        "        importance = model.feature_importances_\n",
        "\n",
        "    # Summary of feature importance\n",
        "    for feature, score in enumerate(importance):\n",
        "        print('Feature: %0d, Score: %.5f' % (feature, score))\n",
        "    imp_score = list(importance)\n",
        "    imp_score, features = zip(*sorted(zip(imp_score, features)))\n",
        "\n",
        "    fig = plt.figure(figsize=(10, 5))\n",
        "\n",
        "    # Create a bar plot\n",
        "    plt.barh(range(len(features)), imp_score)\n",
        "    plt.yticks(range(len(features)), features)\n",
        "    plt.xlabel('Importance score')\n",
        "    plt.ylabel('Features')\n",
        "    plt.title('Importance scores in features with '+stat_dict[i])\n",
        "    plt.show()\n"
      ]
    },
    {
      "cell_type": "markdown",
      "metadata": {
        "id": "0P4tomJIXAhb"
      },
      "source": [
        "Data transformation by SMOGN (smogn.smoter)"
      ]
    },
    {
      "cell_type": "code",
      "execution_count": 16,
      "metadata": {
        "colab": {
          "base_uri": "https://localhost:8080/"
        },
        "id": "lcjsXH3Rp-KX",
        "outputId": "f7e908f7-e88f-4cd1-f9d6-cc1efd9ccb51"
      },
      "outputs": [
        {
          "name": "stderr",
          "output_type": "stream",
          "text": [
            "dist_matrix: 100%|##########| 107/107 [00:05<00:00, 20.15it/s]\n",
            "synth_matrix: 100%|##########| 107/107 [00:00<00:00, 427.50it/s]\n",
            "r_index: 100%|##########| 44/44 [00:00<00:00, 439.61it/s]\n"
          ]
        }
      ],
      "source": [
        "data_smogn = smogn.smoter(\n",
        "    data = data,\n",
        "    y = 'area'\n",
        ")\n",
        "data_smogn.reset_index(drop=True, inplace=True)"
      ]
    },
    {
      "cell_type": "code",
      "execution_count": 18,
      "metadata": {
        "colab": {
          "base_uri": "https://localhost:8080/",
          "height": 296
        },
        "id": "uUgGtati7Vjk",
        "outputId": "b9ef9239-0498-4197-9ed1-7e676c49a6b3"
      },
      "outputs": [
        {
          "data": {
            "text/plain": [
              "<matplotlib.axes._subplots.AxesSubplot at 0x7efbe6fac0d0>"
            ]
          },
          "execution_count": 18,
          "metadata": {},
          "output_type": "execute_result"
        },
        {
          "data": {
            "image/png": "[encoded data removed]",
            "text/plain": [
              "<Figure size 432x288 with 1 Axes>"
            ]
          },
          "metadata": {
            "needs_background": "light"
          },
          "output_type": "display_data"
        }
      ],
      "source": [
        "sns.distplot(data_smogn.area)"
      ]
    },
    {
      "cell_type": "code",
      "execution_count": 19,
      "metadata": {
        "colab": {
          "base_uri": "https://localhost:8080/",
          "height": 296
        },
        "id": "R3UtZyO_7fGF",
        "outputId": "a18646d4-8727-47ad-d59a-2662de1a16a8"
      },
      "outputs": [
        {
          "data": {
            "text/plain": [
              "<matplotlib.axes._subplots.AxesSubplot at 0x7efbe6d83d50>"
            ]
          },
          "execution_count": 19,
          "metadata": {},
          "output_type": "execute_result"
        },
        {
          "data": {
            "image/png": "[encoded data removed]",
            "text/plain": [
              "<Figure size 432x288 with 1 Axes>"
            ]
          },
          "metadata": {
            "needs_background": "light"
          },
          "output_type": "display_data"
        }
      ],
      "source": [
        "sns.distplot(data.area)"
      ]
    },
    {
      "cell_type": "markdown",
      "metadata": {
        "id": "xDK6NUrWpPnq"
      },
      "source": [
        "Create new datasets from SMOGN data with five sets of features ('STFWI', 'STM', 'FWI', 'M', 'Imp_score')"
      ]
    },
    {
      "cell_type": "code",
      "execution_count": 20,
      "metadata": {
        "id": "3VWnf9-wp-dq"
      },
      "outputs": [],
      "source": [
        "# Separate dataset to feature (X) and target (Y) dataframe\n",
        "STFWI_columns = ['X', 'Y', 'month', 'day', 'FFMC', 'DMC', 'DC', 'ISI']\n",
        "STM_columns = ['X', 'Y', 'month', 'day', 'temp', 'RH', 'wind', 'rain']\n",
        "FWI_columns = ['FFMC', 'DMC', 'DC', 'ISI']\n",
        "M_columns = ['temp', 'RH', 'wind', 'rain']\n",
        "Imp_score_columns = ['X', 'Y', 'day', 'month', 'wind', 'temp', 'DC', 'DMC']\n",
        "columns = ['area']\n",
        "\n",
        "smogn_X = data_smogn.drop(columns=columns, axis=1)\n",
        "smogn_STFWI_X = smogn_X[STFWI_columns]\n",
        "smogn_STM_X = smogn_X[STM_columns]\n",
        "smogn_FWI_X = smogn_X[FWI_columns]\n",
        "smogn_M_X = smogn_X[M_columns]\n",
        "smogn_Imp_score_X = smogn_X[Imp_score_columns]\n",
        "\n",
        "smogn_y = data_smogn[columns]\n"
      ]
    },
    {
      "cell_type": "markdown",
      "metadata": {
        "id": "ThyHrHicfomH"
      },
      "source": [
        "Testing existing models with SMOGN data"
      ]
    },
    {
      "cell_type": "code",
      "execution_count": 25,
      "metadata": {
        "colab": {
          "base_uri": "https://localhost:8080/"
        },
        "id": "ol-0SpoGfnyc",
        "outputId": "bf91d8e2-ddbe-429f-ec98-73d3b390c38e"
      },
      "outputs": [
        {
          "name": "stdout",
          "output_type": "stream",
          "text": [
            "Naive average predictor\n",
            "STFWI: MAD: 31.240, RMSE: 81.676\n",
            "STM: MAD: 31.240, RMSE: 83.183\n",
            "FWI: MAD: 31.238, RMSE: 82.453\n",
            "M: MAD: 31.240, RMSE: 84.102\n",
            "Importance score: MAD: 31.240, RMSE: 85.450\n",
            "Multiple regression\n",
            "STFWI: MAD: 31.227, RMSE: 82.578\n",
            "STM: MAD: 31.328, RMSE: 83.272\n",
            "FWI: MAD: 31.197, RMSE: 85.206\n",
            "M: MAD: 31.325, RMSE: 86.495\n",
            "Importance score: MAD: 31.308, RMSE: 85.826\n",
            "Decesion tree\n",
            "STFWI: MAD: 31.440, RMSE: 85.999\n",
            "STM: MAD: 31.443, RMSE: 85.107\n",
            "FWI: MAD: 31.483, RMSE: 83.857\n",
            "M: MAD: 31.595, RMSE: 85.240\n",
            "Importance score: MAD: 31.407, RMSE: 84.150\n",
            "Random forest\n",
            "STFWI: MAD: 31.312, RMSE: 84.820\n",
            "STM: MAD: 31.342, RMSE: 85.309\n",
            "FWI: MAD: 31.328, RMSE: 83.458\n",
            "M: MAD: 31.336, RMSE: 81.951\n",
            "Importance score: MAD: 31.325, RMSE: 83.136\n"
          ]
        }
      ],
      "source": [
        "smogn_datasets = [smogn_STFWI_X, smogn_STM_X, smogn_FWI_X, smogn_M_X, smogn_Imp_score_X]\n",
        "smogn_datasets_dict = {0: 'STFWI',\n",
        "                       1: 'STM',\n",
        "                       2: 'FWI',\n",
        "                       3: 'M',\n",
        "                       4: 'Importance score'}\n",
        "# Dictionary for models\n",
        "models = [DR, LR, DT, RF]\n",
        "models_dict = {0: 'Naive average predictor',\n",
        "               1: 'Multiple regression',\n",
        "               2: 'Decesion tree',\n",
        "               3: 'Random forest'}\n",
        "\n",
        "# Training for four models and four datasets\n",
        "for i, model in enumerate(models):\n",
        "  print('{}'.format(models_dict[i]))\n",
        "  for j, dataset in enumerate(smogn_datasets):\n",
        "    # MAD and RMSE score\n",
        "    MAD = []\n",
        "    RMSE = []\n",
        "\n",
        "    # Use repeated K-Fold cross validator with 10 splits and 5 repeats\n",
        "    for loop, (train_idx, test_idx) in enumerate(rkf.split(dataset)):\n",
        "      # Create train and test datasets\n",
        "      X_train, X_test = dataset.loc[train_idx], dataset.loc[test_idx]\n",
        "      y_train, y_test = smogn_y.loc[train_idx], smogn_y.loc[test_idx]\n",
        "\n",
        "      # Train each model\n",
        "      model.fit(X_train, y_train)\n",
        "      # Predict with test data\n",
        "      y_hat = post_process(model.predict(X_test))\n",
        "      # Calculate MAD and RMSE\n",
        "      MAD.append(mean_absolute_error(y_test, y_hat))\n",
        "      RMSE.append(mean_squared_error(y_test, y_hat, squared=False))\n",
        "    print('{}: MAD: {:.3f}, RMSE: {:.3f}'.format(smogn_datasets_dict[j], np.mean(MAD), np.mean(RMSE)))"
      ]
    },
    {
      "cell_type": "markdown",
      "metadata": {
        "id": "Q6HF4Kj7XEOp"
      },
      "source": [
        "Hyperparameter tuning"
      ]
    },
    {
      "cell_type": "code",
      "execution_count": 22,
      "metadata": {
        "id": "j-dCivzTXDGR"
      },
      "outputs": [],
      "source": [
        "# Parameters for random forest\n",
        "rf_param = { \n",
        "    'n_estimators': [100, 200, 500],\n",
        "    'max_features': ['sqrt'],\n",
        "    'max_depth' : [3, 4, 5],\n",
        "    'criterion' :['squared_error','absolute_error']\n",
        "}\n",
        "\n",
        "# Parameters for Decision tree\n",
        "dt_param = {\n",
        "    'criterion': ['squared_error','absolute_error'],\n",
        "    'max_depth': [2, 3, 4, 5]\n",
        "}\n",
        "\n",
        "# Parameters for bagging classifier\n",
        "br_param = {\n",
        "    'n_estimators': [10, 50, 100],\n",
        "    'max_samples': [0.2, 0.5, 0.7, 1.0]\n",
        "}\n",
        "\n",
        "# Parameters for adaboost clasfier\n",
        "abr_param = {\n",
        "    'n_estimators': [50, 100, 200],\n",
        "    'learning_rate': [1.0, 1.5, 2.0]\n",
        "}\n",
        "\n",
        "# Parameters for stack classifier\n",
        "sr_param = {\n",
        "    'knn__n_neighbors': [i for i in range(2, 10, 2)],\n",
        "    'tree__max_depth': [i for i in range(2, 10)]\n",
        "}\n"
      ]
    },
    {
      "cell_type": "markdown",
      "metadata": {
        "id": "vDfYLTaIXIVd"
      },
      "source": [
        "GridSearch\n"
      ]
    },
    {
      "cell_type": "code",
      "execution_count": 23,
      "metadata": {
        "colab": {
          "base_uri": "https://localhost:8080/"
        },
        "id": "fWzrd1uQXGRY",
        "outputId": "49baa8d9-3ec1-4a36-8050-f5bd316a76d3"
      },
      "outputs": [
        {
          "data": {
            "text/plain": [
              "GridSearchCV(cv=5, estimator=DecisionTreeRegressor(),\n",
              "             param_grid={'criterion': ['squared_error', 'absolute_error'],\n",
              "                         'max_depth': [2, 3, 4, 5]},\n",
              "             scoring='neg_root_mean_squared_error')"
            ]
          },
          "execution_count": 23,
          "metadata": {},
          "output_type": "execute_result"
        }
      ],
      "source": [
        "cv=5\n",
        "\n",
        "# Define models (bagging classifier, ada boost classifier, and stacking classifier)\n",
        "BR = BaggingRegressor(base_estimator=DecisionTreeRegressor())\n",
        "ABR = AdaBoostRegressor(base_estimator=DecisionTreeRegressor())\n",
        "estimators = [('knn', KNeighborsRegressor()),\n",
        "              ('tree', DecisionTreeRegressor())]\n",
        "SR = StackingRegressor(\n",
        "    estimators=estimators, final_estimator=LinearRegression(), cv=3)\n",
        "DT = DecisionTreeRegressor(criterion='squared_error')\n",
        "RF = RandomForestRegressor(n_estimators=500)\n",
        "\n",
        "# Gridsearch with linear SVC to explore the best parameters\n",
        "br_cv = GridSearchCV(BR, br_param, scoring='neg_root_mean_squared_error', cv=cv)\n",
        "br_cv.fit(X, y)\n",
        "\n",
        "# Gridsearch with linear SVC to explore the best parameters\n",
        "abr_cv = GridSearchCV(ABR, abr_param, scoring='neg_root_mean_squared_error', cv=cv)\n",
        "abr_cv.fit(X, y)\n",
        "\n",
        "# Gridsearch with linear SVC to explore the best parameters\n",
        "sr_cv = GridSearchCV(SR, sr_param, scoring='neg_root_mean_squared_error', cv=cv)\n",
        "sr_cv.fit(X, y)\n",
        "\n",
        "# Gridsearch with linear SVC to explore the best parameters\n",
        "rf_cv = GridSearchCV(RF, rf_param, scoring='neg_root_mean_squared_error', cv=cv)\n",
        "rf_cv.fit(X, y)\n",
        "\n",
        "# Gridsearch with decision tree to explore the best parameters\n",
        "dt_cv = GridSearchCV(DT, dt_param, scoring='neg_root_mean_squared_error', cv=cv)\n",
        "dt_cv.fit(X, y)\n"
      ]
    },
    {
      "cell_type": "markdown",
      "metadata": {
        "id": "mOWe1tc8XMW3"
      },
      "source": [
        "Testing proposed datasets, hyperparameter, and models with new datasets to find the best solution"
      ]
    },
    {
      "cell_type": "code",
      "execution_count": 24,
      "metadata": {
        "colab": {
          "base_uri": "https://localhost:8080/"
        },
        "id": "cOIRUxJ6XK-9",
        "outputId": "c2b6c412-938e-4df4-a04e-222b19ad7264"
      },
      "outputs": [
        {
          "name": "stdout",
          "output_type": "stream",
          "text": [
            "Decision Tree Best Params: {'criterion': 'absolute_error', 'max_depth': 2}\n",
            "STFWI: MAD: 12.796, RMSE: 48.181\n",
            "STM: MAD: 12.786, RMSE: 46.427\n",
            "FWI: MAD: 12.866, RMSE: 47.430\n",
            "M: MAD: 12.771, RMSE: 47.551\n",
            "Importance score: MAD: 12.786, RMSE: 45.453\n",
            "Bagging regressor Best Params: {'max_samples': 1.0, 'n_estimators': 50}\n",
            "STFWI: MAD: 13.098, RMSE: 46.669\n",
            "STM: MAD: 13.051, RMSE: 46.910\n",
            "FWI: MAD: 13.082, RMSE: 45.418\n",
            "M: MAD: 13.067, RMSE: 43.612\n",
            "Importance score: MAD: 13.034, RMSE: 45.702\n",
            "AdaBoost regressor Best Params: {'learning_rate': 1.0, 'n_estimators': 50}\n",
            "STFWI: MAD: 12.922, RMSE: 46.858\n",
            "STM: MAD: 12.971, RMSE: 46.516\n",
            "FWI: MAD: 12.970, RMSE: 44.774\n",
            "M: MAD: 12.943, RMSE: 46.940\n",
            "Importance score: MAD: 12.962, RMSE: 47.059\n",
            "Stacking regressor Best Params: {'knn__n_neighbors': 6, 'tree__max_depth': 5}\n",
            "STFWI: MAD: 13.113, RMSE: 46.496\n",
            "STM: MAD: 13.104, RMSE: 46.051\n",
            "FWI: MAD: 13.114, RMSE: 46.052\n",
            "M: MAD: 13.096, RMSE: 44.708\n",
            "Importance score: MAD: 13.111, RMSE: 45.267\n",
            "Random forest Best Params: {'criterion': 'absolute_error', 'max_depth': 3, 'max_features': 'sqrt', 'n_estimators': 500}\n",
            "STFWI: MAD: 12.854, RMSE: 46.793\n",
            "STM: MAD: 12.803, RMSE: 46.107\n",
            "FWI: MAD: 12.884, RMSE: 46.125\n",
            "M: MAD: 12.780, RMSE: 47.637\n",
            "Importance score: MAD: 12.790, RMSE: 47.216\n"
          ]
        }
      ],
      "source": [
        "# Define constants\n",
        "n_splits = 10\n",
        "n_repeats = 5\n",
        "# Create repeated K-Fold cross validator with 10 splits and 5 repeats\n",
        "rkf = RepeatedKFold(n_splits=n_splits, n_repeats=n_repeats)\n",
        "\n",
        "# Define the model to train models\n",
        "grids = [dt_cv, br_cv, abr_cv, sr_cv, rf_cv]\n",
        "# grids = [dt_cv, br_cv, abr_cv, sr_cv]\n",
        "\n",
        "# Dictionary for potential models\n",
        "grid_dict = {0: 'Decision Tree',\n",
        "             1: 'Bagging regressor',\n",
        "             2: 'AdaBoost regressor',\n",
        "             3: 'Stacking regressor',\n",
        "             4: 'Random forest'\n",
        "             }\n",
        "\n",
        "# Dictionary for datasets\n",
        "# Separate dataset to feature (X) and target (y) DataFrame\n",
        "STFWI_columns = ['X','Y','month','day','FFMC','DMC','DC','ISI']\n",
        "STM_columns = ['X','Y','month','day','temp','RH','wind','rain']\n",
        "FWI_columns = ['FFMC','DMC','DC','ISI']\n",
        "M_columns = ['temp','RH','wind','rain']\n",
        "Imp_score_columns = ['X', 'Y', 'day', 'month', 'wind', 'temp', 'DC', 'DMC']\n",
        "columns = ['area']\n",
        "\n",
        "X = data.drop(columns=columns, axis=1)\n",
        "STFWI_X = X[STFWI_columns]\n",
        "STM_X = X[STM_columns]\n",
        "FWI_X = X[FWI_columns]\n",
        "M_X = X[M_columns]\n",
        "Imp_score_X = X[Imp_score_columns]\n",
        "y = data[columns]\n",
        "\n",
        "datasets = [STFWI_X, STM_X, FWI_X, M_X, Imp_score_X]\n",
        "datasets_dict = {0: 'STFWI',\n",
        "                 1: 'STM',\n",
        "                 2: 'FWI',\n",
        "                 3: 'M',\n",
        "                 4: 'Importance score'}\n",
        "\n",
        "# Displaying model performance metrics\n",
        "for i, model in enumerate(grids):\n",
        "  print('{} Best Params: {}'.format(grid_dict[i], model.best_params_))\n",
        "  for j, dataset in enumerate(datasets):\n",
        "    # MAD and RMSE scores\n",
        "    MAD = []\n",
        "    RMSE = []\n",
        "    \n",
        "    for loop, (train_idx, test_idx) in enumerate(rkf.split(dataset)):\n",
        "      # Create train and test datasets\n",
        "      X_train, X_test = dataset.loc[train_idx], dataset.loc[test_idx]\n",
        "      y_train, y_test = y.loc[train_idx], y.loc[test_idx]\n",
        "\n",
        "      # Train each model\n",
        "      train_model = model\n",
        "      train_model.fit(X_train, y_train)\n",
        "      # Predict with test data\n",
        "      y_hat = post_process(train_model.predict(X_test))\n",
        "      # Calculate MAD and RMSE\n",
        "      MAD.append(mean_absolute_error(y_test, y_hat))\n",
        "      RMSE.append(mean_squared_error(y_test, y_hat, squared=False))\n",
        "    print('{}: MAD: {:.3f}, RMSE: {:.3f}'.format(datasets_dict[j], np.mean(MAD), np.mean(RMSE)))\n"
      ]
    },
    {
      "cell_type": "code",
      "execution_count": null,
      "metadata": {
        "id": "bCYxchpug958"
      },
      "outputs": [],
      "source": []
    }
  ],
  "metadata": {
    "colab": {
      "collapsed_sections": [],
      "name": "SIT720_A4_222355509.ipynb",
      "provenance": []
    },
    "kernelspec": {
      "display_name": "anaconda1",
      "language": "python",
      "name": "python3"
    },
    "language_info": {
      "codemirror_mode": {
        "name": "ipython",
        "version": 3
      },
      "file_extension": ".py",
      "mimetype": "text/x-python",
      "name": "python",
      "nbconvert_exporter": "python",
      "pygments_lexer": "ipython3",
      "version": "3.10.8 (main, Nov 24 2022, 08:09:04) [Clang 14.0.6 ]"
    },
    "vscode": {
      "interpreter": {
        "hash": "58e24ace3a3a991b9bcf43a8bb96d69c23b5ed0abfb9d7c6b1b09157b68fbac3"
      }
    }
  },
  "nbformat": 4,
  "nbformat_minor": 0
}
